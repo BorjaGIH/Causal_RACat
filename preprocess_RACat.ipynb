{
 "cells": [
  {
   "cell_type": "markdown",
   "metadata": {},
   "source": [
    "# Preprocess RACat"
   ]
  },
  {
   "cell_type": "code",
   "execution_count": 1,
   "metadata": {},
   "outputs": [],
   "source": [
    "import lifelines\n",
    "import pandas as pd\n",
    "import datetime\n",
    "import matplotlib\n",
    "import matplotlib.pyplot as plt\n",
    "from lifelines import KaplanMeierFitter\n",
    "from lifelines.statistics import logrank_test\n",
    "from sklearn.preprocessing import LabelEncoder\n",
    "from IPython.display import Markdown as md\n",
    "from lifelines import CoxPHFitter\n",
    "from lifelines import AalenJohansenFitter\n",
    "import numpy as np\n",
    "from scipy.stats import ttest_ind\n",
    "from scipy.stats import binom_test\n",
    "from scipy.stats import chi2_contingency\n",
    "from statsmodels.stats.proportion import proportions_ztest\n",
    "from scipy.stats import iqr\n",
    "import lifelines\n",
    "import warnings;\n",
    "warnings.filterwarnings('ignore');"
   ]
  },
  {
   "cell_type": "code",
   "execution_count": 2,
   "metadata": {},
   "outputs": [],
   "source": [
    "data = pd.read_csv('procesed_racat.csv')"
   ]
  },
  {
   "cell_type": "code",
   "execution_count": 3,
   "metadata": {},
   "outputs": [
    {
     "data": {
      "text/plain": [
       "25617"
      ]
     },
     "execution_count": 3,
     "metadata": {},
     "output_type": "execute_result"
    }
   ],
   "source": [
    "len(data)"
   ]
  },
  {
   "cell_type": "code",
   "execution_count": 4,
   "metadata": {},
   "outputs": [
    {
     "name": "stdout",
     "output_type": "stream",
     "text": [
      "Index(['nia', 'edat', 'edat_g', 'codisexe', 'sex', 'up', 'upnom', 'nivah',\n",
      "       'nivah_nom', 'C_Ingres', 'C_Ingres_nom', 'antibio1', 'viscositat',\n",
      "       'any_qx', 'dat_qx_x', 'codisituaciopacient_new', 'dat_situapac_newrac',\n",
      "       'charlindex', 'elix_cnt', 'Congestive_Heart_Failure',\n",
      "       'Cardiac_arrhytmias', 'Valvular_Disease', 'Pulmonary_Circulation...',\n",
      "       'Peripheral_Vascular_D...', 'Hipertensió', 'Paralysis',\n",
      "       'Altres_trastorns_neur...', 'MPOC', '_Diabetis_no_complicada',\n",
      "       '_Diabetis_complicada', '_Hypothyroidism', '_Renal_Failure',\n",
      "       '_Liver_Disease', '_Peptic_Ulcer_Disease_...', '_AIDS', '_Lymphoma',\n",
      "       '_Metastatic_Cancer', '_Solid_Tumor_Without_M...',\n",
      "       '_Rheumatoid_Arthritis', '_Coagulopathy', '_Obesitat', '_Weight_Loss',\n",
      "       '_Fluid_and_Electrolyte...', '_Blood_Loss_Anemia', '_Deficiency_Anemia',\n",
      "       '_Alcohol_Abuse', '_Drug_Abuse', '_Psychoses', '_Depressió',\n",
      "       '_Hypertension,_complicated', 'AMI (Acute Myocardial) ',\n",
      "       'CHF (Congestive Heart) ', 'PVD (Peripheral Vascular) ',\n",
      "       'CEVD (Cerebrovascular ', 'Dementia float ',\n",
      "       'COPD (Chronic Obstructive Pulmonary) ', 'Rheumatoid Disease float ',\n",
      "       'PUD (Peptic Ulcer) ', 'Mild LD (Liver) ', 'Diabetes ',\n",
      "       'Diabetes + Complications ', 'HP/PAPL (Hemiplegia or Paraplegia)',\n",
      "       'RD (Renal) float', 'Cancer float ', 'Moderate/Severe LD (Liver) ',\n",
      "       'Metastatic Cancer float ', 'AIDS float', 'Nia_loc', 'dat_qx_y',\n",
      "       'diagR', 'Durada de la intervenció (en minuts)', 'smoking_date',\n",
      "       'smoking_value', 'bmi_date', 'bmi_val'],\n",
      "      dtype='object')\n"
     ]
    }
   ],
   "source": [
    "# Variable renaming:\n",
    "print(data.columns)"
   ]
  },
  {
   "cell_type": "code",
   "execution_count": 5,
   "metadata": {},
   "outputs": [],
   "source": [
    "#print(data.columns)\n",
    "data.columns = ['nia', 'edat', 'edat_g', 'codisexe', 'sex', 'up', 'upnom', 'nivah',\n",
    "       'nivah_nom', 'C_Ingres', 'C_Ingres_nom', 'antibio1', 'viscositat',\n",
    "       'any_qx', 'dat_qx_x', 'codisituaciopacient_new', 'dat_situapac_newrac',\n",
    "       'charlindex', 'elix_cnt', \n",
    "                \n",
    "       'Congestive_Heart_Failure','Cardiac_arrhytmias', 'Valvular_Disease', 'Pulmonary_Circulation',\n",
    "       'Peripheral_Vascular_dis', 'Hipertension', 'Paralysis',\n",
    "       'Altres_trastorns_neur', 'MPOC', 'Diabetis_no_complicada',\n",
    "       'Diabetis_complicada', 'Hypothyroidism', 'Renal_Failure',\n",
    "       'Liver_Disease', 'Peptic_Ulcer_Disease', 'AIDS', 'Lymphoma',\n",
    "       'Metastatic_Cancer', 'Solid_Tumor_Without_M',\n",
    "       'Rheumatoid_Arthritis', 'Coagulopathy', 'Obesitat', 'Weight_Loss',\n",
    "       'Fluid_and_Electrolyte', 'Blood_Loss_Anemia', 'Deficiency_Anemia',\n",
    "       'Alcohol_Abuse', 'Drug_Abuse', 'Psychoses', 'Depressió','Hypertension_complicated',\n",
    "                \n",
    "       'Acute_Myocardial','Congestive_Heart_f', 'Peripheral_Vascular_d',\n",
    "       'Cerebrovascular_d', 'Dementia',\n",
    "       'Chronic_Obstructive_Pulmonary_d', 'Rheumatoid_Disease',\n",
    "       'Peptic_Ulcer_d', 'Mild_Liver_d', 'Diabetes',\n",
    "       'Diabetes_Complications', 'Hemiplegia_or_Paraplegia',\n",
    "       'Renal_d', 'Cancer', 'Moderate_Severe_Liver_d',\n",
    "       'Metastatic_Cancer_2', 'AIDS_2', \n",
    "                \n",
    "       'Nia_loc', 'dat_qx_y',\n",
    "       'diagR', 'Durada_intervencio_minuts',\n",
    "       'smoking_date', 'smoking_value',\n",
    "       'bmi_date', 'bmi_val']"
   ]
  },
  {
   "cell_type": "code",
   "execution_count": 6,
   "metadata": {},
   "outputs": [],
   "source": [
    "# Select diseases and order\n",
    "data = data[[\n",
    "  'nia', 'Nia_loc', 'antibio1', 'dat_qx_x', 'codisituaciopacient_new', 'dat_situapac_newrac', 'dat_qx_y', 'diagR', \n",
    "  'edat', 'edat_g', 'codisexe', 'sex', 'any_qx', 'up', 'upnom', 'nivah','nivah_nom', \n",
    "  'C_Ingres', 'C_Ingres_nom', 'viscositat', 'Durada_intervencio_minuts',\n",
    "  \n",
    "'smoking_date', 'smoking_value',\n",
    "'bmi_date', 'bmi_val',\n",
    "  \n",
    "'Congestive_Heart_Failure',\n",
    "'Cardiac_arrhytmias',\n",
    "'Valvular_Disease',\n",
    "'Peripheral_Vascular_dis',\n",
    "'Altres_trastorns_neur',\n",
    "'Rheumatoid_Arthritis',\n",
    "'Fluid_and_Electrolyte',\n",
    "'Alcohol_Abuse',\n",
    "'Pulmonary_Circulation',\n",
    "'Hipertension',\n",
    "'MPOC',\n",
    "'Hypothyroidism',\n",
    "'Peptic_Ulcer_Disease',\n",
    "'Coagulopathy',\n",
    "'Blood_Loss_Anemia',\n",
    "'Drug_Abuse',\n",
    "'Paralysis',\n",
    "'AIDS',\n",
    "'Obesitat',\n",
    "'Deficiency_Anemia',\n",
    "'Psychoses',\n",
    "'Lymphoma',\n",
    "'Weight_Loss',\n",
    "'Depressió',\n",
    "'Hypertension_complicated',\n",
    "  \n",
    "'Acute_Myocardial',\n",
    "'Cerebrovascular_d',\n",
    "'Renal_d',\n",
    "'Dementia',\n",
    "'Mild_Liver_d',\n",
    "'Cancer',\n",
    "'Diabetes',\n",
    "'Moderate_Severe_Liver_d',\n",
    "  \n",
    "'elix_cnt', 'charlindex'\n",
    "\n",
    "]]"
   ]
  },
  {
   "cell_type": "code",
   "execution_count": 7,
   "metadata": {},
   "outputs": [],
   "source": [
    "# LINE DROP OPERATION\n",
    "# Drop those we dont know whether they have antibiotic or not\n",
    "data = data[~(data.antibio1=='Sense informar')].copy()\n",
    "data.reset_index(inplace=True, drop=True)"
   ]
  },
  {
   "cell_type": "code",
   "execution_count": 8,
   "metadata": {},
   "outputs": [
    {
     "data": {
      "text/plain": [
       "22871"
      ]
     },
     "execution_count": 8,
     "metadata": {},
     "output_type": "execute_result"
    }
   ],
   "source": [
    "len(data)"
   ]
  },
  {
   "cell_type": "code",
   "execution_count": 9,
   "metadata": {},
   "outputs": [
    {
     "name": "stdout",
     "output_type": "stream",
     "text": [
      "90\n",
      "True\n",
      "90\n",
      "True\n",
      "90\n",
      "True\n",
      "90\n",
      "True\n",
      "90\n",
      "True\n",
      "90\n",
      "True\n",
      "90\n",
      "True\n",
      "90\n",
      "True\n",
      "90\n",
      "True\n",
      "90\n",
      "True\n",
      "90\n",
      "True\n",
      "90\n",
      "True\n",
      "90\n",
      "True\n",
      "90\n",
      "True\n",
      "90\n",
      "True\n",
      "90\n",
      "True\n",
      "90\n",
      "True\n",
      "90\n",
      "True\n",
      "90\n",
      "True\n",
      "90\n",
      "True\n",
      "90\n",
      "True\n",
      "90\n",
      "True\n",
      "90\n",
      "True\n",
      "90\n",
      "True\n",
      "90\n",
      "True\n"
     ]
    }
   ],
   "source": [
    "# Check elixhauser columns with nans\n",
    "idx_old = data[data[data.columns[25]].isna()].index\n",
    "for col in range(25,50):\n",
    "  print(len(data[data[data.columns[col]].isna()]))\n",
    "  idx_new = data[data[data.columns[col]].isna()].index\n",
    "  print((idx_old==idx_new).all())\n",
    "  idx_old=idx_new"
   ]
  },
  {
   "cell_type": "code",
   "execution_count": 10,
   "metadata": {},
   "outputs": [],
   "source": [
    "# LINE DROP OPERATION\n",
    "# lines with elixhauser as NAN\n",
    "data = data[~data.index.isin(idx_new)].copy()\n",
    "data.reset_index(inplace=True, drop=True)"
   ]
  },
  {
   "cell_type": "code",
   "execution_count": 11,
   "metadata": {},
   "outputs": [
    {
     "data": {
      "text/plain": [
       "22781"
      ]
     },
     "execution_count": 11,
     "metadata": {},
     "output_type": "execute_result"
    }
   ],
   "source": [
    "len(data)"
   ]
  },
  {
   "cell_type": "code",
   "execution_count": 12,
   "metadata": {},
   "outputs": [
    {
     "name": "stdout",
     "output_type": "stream",
     "text": [
      "0\n",
      "True\n",
      "0\n",
      "True\n",
      "0\n",
      "True\n",
      "0\n",
      "True\n",
      "0\n",
      "True\n",
      "0\n",
      "True\n",
      "0\n",
      "True\n",
      "0\n",
      "True\n"
     ]
    }
   ],
   "source": [
    "# Check charlson columns with nans\n",
    "idx_old = data[data[data.columns[52]].isna()].index\n",
    "for col in range(50,58):\n",
    "  print(len(data[data[data.columns[col]].isna()]))\n",
    "  idx_new = data[data[data.columns[col]].isna()].index\n",
    "  print((idx_old==idx_new).all())\n",
    "  idx_old=idx_new"
   ]
  },
  {
   "cell_type": "code",
   "execution_count": 13,
   "metadata": {},
   "outputs": [],
   "source": [
    "# LINE DROP OPERATION\n",
    "# lines with elixhauser as NAN\n",
    "data = data[~data.index.isin(idx_new)].copy()\n",
    "data.reset_index(inplace=True, drop=True)"
   ]
  },
  {
   "cell_type": "code",
   "execution_count": 14,
   "metadata": {},
   "outputs": [
    {
     "data": {
      "text/plain": [
       "22781"
      ]
     },
     "execution_count": 14,
     "metadata": {},
     "output_type": "execute_result"
    }
   ],
   "source": [
    "len(data)"
   ]
  },
  {
   "cell_type": "code",
   "execution_count": 15,
   "metadata": {},
   "outputs": [],
   "source": [
    "# COVARIATE MISSING FILLING OP\n",
    "# Complete smoking status\n",
    "data.smoking_value = data.smoking_value.fillna(0)"
   ]
  },
  {
   "cell_type": "code",
   "execution_count": 16,
   "metadata": {},
   "outputs": [],
   "source": [
    "# COVARIATE MISSING FILLING OP\n",
    "# Fill BMI NaNs with average of group age\n",
    "for age in data.edat_g.unique():\n",
    "    val = data[data.edat_g==age]['bmi_val'].mean(skipna=True)\n",
    "    data.loc[(data.bmi_val.isna()) & (data.edat_g==age), 'bmi_val'] = val"
   ]
  },
  {
   "cell_type": "code",
   "execution_count": 17,
   "metadata": {},
   "outputs": [],
   "source": [
    "# COVARIATE MISSING FILLING OP\n",
    "# Fill durada_intervenció with mean of the UP\n",
    "for up in data.up.unique():\n",
    "    val = data[data.up==up]['Durada_intervencio_minuts'].mean(skipna=True)\n",
    "    data.loc[(data.Durada_intervencio_minuts.isna()|data.Durada_intervencio_minuts==0.) & (data.up==up), 'Durada_intervencio_minuts'] = val\n",
    "    \n",
    "data.Durada_intervencio_minuts = data.Durada_intervencio_minuts.fillna(data.Durada_intervencio_minuts.mean())"
   ]
  },
  {
   "cell_type": "code",
   "execution_count": 18,
   "metadata": {},
   "outputs": [],
   "source": [
    "# Change Charlson vars to binary (from Absent/Present)\n",
    "for charl_col in ['Acute_Myocardial','Cerebrovascular_d','Renal_d','Dementia','Mild_Liver_d','Cancer','Diabetes','Moderate_Severe_Liver_d']:\n",
    "  data[charl_col] = data[charl_col].map({'Absent':0, 'Present':1})"
   ]
  },
  {
   "cell_type": "code",
   "execution_count": 19,
   "metadata": {},
   "outputs": [],
   "source": [
    "# Group antibiotic\n",
    "data['Antibiotic'] = np.zeros(len(data))\n",
    "data.loc[~((data.antibio1=='Sense antibiòtic')) , 'Antibiotic'] = 1\n",
    "data['Antibiotic'] = data['Antibiotic'].astype(int)"
   ]
  },
  {
   "cell_type": "code",
   "execution_count": 20,
   "metadata": {},
   "outputs": [],
   "source": [
    "# Compute boolean of \"observed event\": 1 if there is revision of the prothesis (not survived) and 0 otherwise\n",
    "data['Ea']=1-data.dat_qx_y.isna()\n",
    "data['Ei']=data['Ea'] & ((data.diagR=='Infecció i reacció inflamatòria') | (data.diagR=='2n temps Qx') | (data.diagR=='Afluixament sèptic'))\n",
    "data['En']=data['Ea'] & (~data['Ei'])\n",
    "data['Ei'] = data['Ei'].astype('int')\n",
    "data['En'] = data['En'].astype('int')"
   ]
  },
  {
   "cell_type": "code",
   "execution_count": 21,
   "metadata": {},
   "outputs": [],
   "source": [
    "# Set date2 to end of study period for those cases where event is not observed, for computing durations\n",
    "data.loc[data.Ea==0, 'dat_qx_y'] = '2024-01-01'"
   ]
  },
  {
   "cell_type": "code",
   "execution_count": 22,
   "metadata": {},
   "outputs": [],
   "source": [
    "# Compute event when there is death (for competing risk analysis)\n",
    "data['Ed'] = pd.Series(np.zeros(len(data)))\n",
    "data.loc[data['codisituaciopacient_new']=='D', 'Ed']=2"
   ]
  },
  {
   "cell_type": "code",
   "execution_count": 23,
   "metadata": {},
   "outputs": [],
   "source": [
    "# Convert to datetimes\n",
    "data['dat_qx_x'] = pd.to_datetime(data['dat_qx_x'], utc=True)\n",
    "data['dat_qx_y'] = pd.to_datetime(data['dat_qx_y'], utc=True)\n",
    "data['dat_defunc'] = pd.to_datetime(data.loc[data.Ed==2, 'dat_situapac_newrac'], utc=True)\n",
    "data['smoking_date'] = pd.to_datetime(data['smoking_date'], utc=True)\n",
    "data['bmi_date'] = pd.to_datetime(data['bmi_date'], utc=True)"
   ]
  },
  {
   "cell_type": "code",
   "execution_count": 24,
   "metadata": {},
   "outputs": [],
   "source": [
    "# Compute number of months\n",
    "data['T'] = (data.dat_qx_y - data.dat_qx_x)\n",
    "data['T'] = data['T'].astype('str').str.strip(' days')\n",
    "data['T'] = data['T'].astype('float')/30."
   ]
  },
  {
   "cell_type": "code",
   "execution_count": 25,
   "metadata": {},
   "outputs": [],
   "source": [
    "# Compute time when there is death (for competing risk analysis)\n",
    "data.loc[data.Ed==2, 'T'] = (data[data.Ed==2].dat_defunc - data[data.Ed==2].dat_qx_x).astype('str').str.strip(' days').astype('float')/30."
   ]
  },
  {
   "cell_type": "code",
   "execution_count": 26,
   "metadata": {},
   "outputs": [],
   "source": [
    "data.to_csv('racat_prep.csv')"
   ]
  },
  {
   "cell_type": "code",
   "execution_count": 27,
   "metadata": {},
   "outputs": [
    {
     "data": {
      "text/plain": [
       "22781"
      ]
     },
     "execution_count": 27,
     "metadata": {},
     "output_type": "execute_result"
    }
   ],
   "source": [
    "len(data)"
   ]
  },
  {
   "cell_type": "code",
   "execution_count": null,
   "metadata": {},
   "outputs": [],
   "source": []
  }
 ],
 "metadata": {
  "kernelspec": {
   "display_name": "Kernel Python3.6",
   "language": "python",
   "name": "python3.6"
  },
  "language_info": {
   "codemirror_mode": {
    "name": "ipython",
    "version": 3
   },
   "file_extension": ".py",
   "mimetype": "text/x-python",
   "name": "python",
   "nbconvert_exporter": "python",
   "pygments_lexer": "ipython3",
   "version": "3.6.12"
  }
 },
 "nbformat": 4,
 "nbformat_minor": 4
}
