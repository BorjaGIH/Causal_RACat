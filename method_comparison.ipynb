{
 "cells": [
  {
   "cell_type": "code",
   "execution_count": 1,
   "metadata": {},
   "outputs": [],
   "source": [
    "import lifelines\n",
    "import pandas as pd\n",
    "import datetime\n",
    "import matplotlib.pyplot as plt\n",
    "from lifelines import KaplanMeierFitter\n",
    "from lifelines.statistics import logrank_test\n",
    "from sklearn.preprocessing import LabelEncoder\n",
    "from IPython.display import Markdown as md\n",
    "from lifelines import CoxPHFitter\n",
    "from lifelines import AalenJohansenFitter\n",
    "import numpy as np\n",
    "import statsmodels.api as sm\n",
    "from tqdm import tqdm\n",
    "import multiprocessing\n",
    "from scipy import interpolate  # Import for interpolation\n",
    "\n",
    "\n",
    "import warnings;\n",
    "warnings.filterwarnings('ignore');\n"
   ]
  },
  {
   "cell_type": "code",
   "execution_count": 2,
   "metadata": {},
   "outputs": [],
   "source": [
    "data = pd.read_csv('racat_prep.csv')"
   ]
  },
  {
   "cell_type": "markdown",
   "metadata": {},
   "source": [
    "## CATE from weighted KM"
   ]
  },
  {
   "cell_type": "code",
   "execution_count": 3,
   "metadata": {},
   "outputs": [],
   "source": [
    "atb = (data['Antibiotic']==1)\n",
    "T = data['T'].copy()\n",
    "E = data['Ea'].copy()"
   ]
  },
  {
   "cell_type": "code",
   "execution_count": 4,
   "metadata": {},
   "outputs": [],
   "source": [
    "def logit_ip_weights(y, X):\n",
    "    \"\"\"\n",
    "    Create IP weights from logistic regression\n",
    "    \n",
    "    Parameters\n",
    "    ----------\n",
    "    y : Pandas Series\n",
    "    X : Pandas DataFrame\n",
    "    \n",
    "    Returns\n",
    "    -------\n",
    "    Numpy array of IP weights\n",
    "    \n",
    "    \"\"\"\n",
    "    model = sm.Logit(y, X)\n",
    "    res = model.fit()\n",
    "    weights = np.zeros(X.shape[0])\n",
    "    weights[y == 1] = res.predict(X.loc[y == 1])\n",
    "    weights[y == 0] = 1 - res.predict(X.loc[y == 0])\n",
    "    return weights"
   ]
  },
  {
   "cell_type": "code",
   "execution_count": 5,
   "metadata": {},
   "outputs": [],
   "source": [
    "data_ip = data[[\"edat\", \"any_qx\", \"bmi_val\", \"charlindex\", \"codisexe\", \"nivah\", \"Diabetes\", \"Obesitat\", \"Rheumatoid_Arthritis\", \"smoking_value\", \"Durada_intervencio_minuts\", \"viscositat\", \"Alcohol_Abuse\"]]"
   ]
  },
  {
   "cell_type": "code",
   "execution_count": 6,
   "metadata": {},
   "outputs": [
    {
     "data": {
      "text/plain": [
       "(array([0, 1, 2, ..., 3, 1, 0]),\n",
       " Index(['X3', 'X1', 'X2', 'X4', 'X4a'], dtype='object'))"
      ]
     },
     "execution_count": 6,
     "metadata": {},
     "output_type": "execute_result"
    }
   ],
   "source": [
    "pd.factorize(data.nivah)"
   ]
  },
  {
   "cell_type": "code",
   "execution_count": 7,
   "metadata": {},
   "outputs": [
    {
     "data": {
      "text/plain": [
       "(array([0, 1, 0, ..., 3, 3, 0]),\n",
       " Index(['Alta', 'nc', 'Baixa', 'Mitja'], dtype='object'))"
      ]
     },
     "execution_count": 7,
     "metadata": {},
     "output_type": "execute_result"
    }
   ],
   "source": [
    "pd.factorize(data.viscositat)"
   ]
  },
  {
   "cell_type": "code",
   "execution_count": 8,
   "metadata": {},
   "outputs": [
    {
     "data": {
      "text/plain": [
       "array([0, 1, 0, ..., 3, 3, 0])"
      ]
     },
     "execution_count": 8,
     "metadata": {},
     "output_type": "execute_result"
    }
   ],
   "source": [
    "pd.factorize(data.viscositat)[0]"
   ]
  },
  {
   "cell_type": "code",
   "execution_count": 9,
   "metadata": {},
   "outputs": [],
   "source": [
    "data_ip['nivah_int'] = pd.factorize(data.nivah)[0]\n",
    "data_ip['viscositat_int'] = pd.factorize(data.viscositat)[0]"
   ]
  },
  {
   "cell_type": "code",
   "execution_count": 10,
   "metadata": {},
   "outputs": [],
   "source": [
    "data_ip.drop(['nivah','viscositat'],axis=1,inplace=True)"
   ]
  },
  {
   "cell_type": "code",
   "execution_count": 11,
   "metadata": {},
   "outputs": [
    {
     "data": {
      "text/html": [
       "<div>\n",
       "<style scoped>\n",
       "    .dataframe tbody tr th:only-of-type {\n",
       "        vertical-align: middle;\n",
       "    }\n",
       "\n",
       "    .dataframe tbody tr th {\n",
       "        vertical-align: top;\n",
       "    }\n",
       "\n",
       "    .dataframe thead th {\n",
       "        text-align: right;\n",
       "    }\n",
       "</style>\n",
       "<table border=\"1\" class=\"dataframe\">\n",
       "  <thead>\n",
       "    <tr style=\"text-align: right;\">\n",
       "      <th></th>\n",
       "      <th>edat</th>\n",
       "      <th>any_qx</th>\n",
       "      <th>bmi_val</th>\n",
       "      <th>charlindex</th>\n",
       "      <th>codisexe</th>\n",
       "      <th>Diabetes</th>\n",
       "      <th>Obesitat</th>\n",
       "      <th>Rheumatoid_Arthritis</th>\n",
       "      <th>smoking_value</th>\n",
       "      <th>Durada_intervencio_minuts</th>\n",
       "      <th>Alcohol_Abuse</th>\n",
       "      <th>nivah_int</th>\n",
       "      <th>viscositat_int</th>\n",
       "    </tr>\n",
       "  </thead>\n",
       "  <tbody>\n",
       "    <tr>\n",
       "      <th>0</th>\n",
       "      <td>72.747437</td>\n",
       "      <td>2018</td>\n",
       "      <td>30.67</td>\n",
       "      <td>0</td>\n",
       "      <td>1</td>\n",
       "      <td>0</td>\n",
       "      <td>1.0</td>\n",
       "      <td>0.0</td>\n",
       "      <td>0.0</td>\n",
       "      <td>89.912115</td>\n",
       "      <td>0.0</td>\n",
       "      <td>0</td>\n",
       "      <td>0</td>\n",
       "    </tr>\n",
       "    <tr>\n",
       "      <th>1</th>\n",
       "      <td>78.365501</td>\n",
       "      <td>2019</td>\n",
       "      <td>30.73</td>\n",
       "      <td>1</td>\n",
       "      <td>1</td>\n",
       "      <td>0</td>\n",
       "      <td>0.0</td>\n",
       "      <td>0.0</td>\n",
       "      <td>2.0</td>\n",
       "      <td>106.000000</td>\n",
       "      <td>0.0</td>\n",
       "      <td>1</td>\n",
       "      <td>1</td>\n",
       "    </tr>\n",
       "    <tr>\n",
       "      <th>2</th>\n",
       "      <td>83.101982</td>\n",
       "      <td>2019</td>\n",
       "      <td>31.05</td>\n",
       "      <td>1</td>\n",
       "      <td>1</td>\n",
       "      <td>1</td>\n",
       "      <td>0.0</td>\n",
       "      <td>0.0</td>\n",
       "      <td>0.0</td>\n",
       "      <td>74.000000</td>\n",
       "      <td>0.0</td>\n",
       "      <td>2</td>\n",
       "      <td>0</td>\n",
       "    </tr>\n",
       "    <tr>\n",
       "      <th>3</th>\n",
       "      <td>75.186859</td>\n",
       "      <td>2020</td>\n",
       "      <td>26.92</td>\n",
       "      <td>0</td>\n",
       "      <td>1</td>\n",
       "      <td>0</td>\n",
       "      <td>0.0</td>\n",
       "      <td>0.0</td>\n",
       "      <td>0.0</td>\n",
       "      <td>89.912115</td>\n",
       "      <td>0.0</td>\n",
       "      <td>3</td>\n",
       "      <td>2</td>\n",
       "    </tr>\n",
       "    <tr>\n",
       "      <th>4</th>\n",
       "      <td>71.904175</td>\n",
       "      <td>2020</td>\n",
       "      <td>41.33</td>\n",
       "      <td>0</td>\n",
       "      <td>1</td>\n",
       "      <td>0</td>\n",
       "      <td>1.0</td>\n",
       "      <td>0.0</td>\n",
       "      <td>2.0</td>\n",
       "      <td>89.912115</td>\n",
       "      <td>0.0</td>\n",
       "      <td>2</td>\n",
       "      <td>0</td>\n",
       "    </tr>\n",
       "    <tr>\n",
       "      <th>...</th>\n",
       "      <td>...</td>\n",
       "      <td>...</td>\n",
       "      <td>...</td>\n",
       "      <td>...</td>\n",
       "      <td>...</td>\n",
       "      <td>...</td>\n",
       "      <td>...</td>\n",
       "      <td>...</td>\n",
       "      <td>...</td>\n",
       "      <td>...</td>\n",
       "      <td>...</td>\n",
       "      <td>...</td>\n",
       "      <td>...</td>\n",
       "    </tr>\n",
       "    <tr>\n",
       "      <th>22776</th>\n",
       "      <td>76.210815</td>\n",
       "      <td>2020</td>\n",
       "      <td>32.76</td>\n",
       "      <td>0</td>\n",
       "      <td>1</td>\n",
       "      <td>0</td>\n",
       "      <td>0.0</td>\n",
       "      <td>0.0</td>\n",
       "      <td>0.0</td>\n",
       "      <td>89.912115</td>\n",
       "      <td>0.0</td>\n",
       "      <td>3</td>\n",
       "      <td>0</td>\n",
       "    </tr>\n",
       "    <tr>\n",
       "      <th>22777</th>\n",
       "      <td>78.965096</td>\n",
       "      <td>2020</td>\n",
       "      <td>34.74</td>\n",
       "      <td>0</td>\n",
       "      <td>1</td>\n",
       "      <td>0</td>\n",
       "      <td>0.0</td>\n",
       "      <td>0.0</td>\n",
       "      <td>0.0</td>\n",
       "      <td>89.912115</td>\n",
       "      <td>0.0</td>\n",
       "      <td>1</td>\n",
       "      <td>3</td>\n",
       "    </tr>\n",
       "    <tr>\n",
       "      <th>22778</th>\n",
       "      <td>73.388092</td>\n",
       "      <td>2020</td>\n",
       "      <td>40.74</td>\n",
       "      <td>3</td>\n",
       "      <td>1</td>\n",
       "      <td>0</td>\n",
       "      <td>1.0</td>\n",
       "      <td>0.0</td>\n",
       "      <td>2.0</td>\n",
       "      <td>132.000000</td>\n",
       "      <td>0.0</td>\n",
       "      <td>3</td>\n",
       "      <td>3</td>\n",
       "    </tr>\n",
       "    <tr>\n",
       "      <th>22779</th>\n",
       "      <td>64.312119</td>\n",
       "      <td>2020</td>\n",
       "      <td>35.19</td>\n",
       "      <td>1</td>\n",
       "      <td>0</td>\n",
       "      <td>1</td>\n",
       "      <td>0.0</td>\n",
       "      <td>0.0</td>\n",
       "      <td>2.0</td>\n",
       "      <td>89.912115</td>\n",
       "      <td>0.0</td>\n",
       "      <td>1</td>\n",
       "      <td>3</td>\n",
       "    </tr>\n",
       "    <tr>\n",
       "      <th>22780</th>\n",
       "      <td>82.633812</td>\n",
       "      <td>2020</td>\n",
       "      <td>38.10</td>\n",
       "      <td>1</td>\n",
       "      <td>1</td>\n",
       "      <td>0</td>\n",
       "      <td>1.0</td>\n",
       "      <td>0.0</td>\n",
       "      <td>0.0</td>\n",
       "      <td>78.000000</td>\n",
       "      <td>0.0</td>\n",
       "      <td>0</td>\n",
       "      <td>0</td>\n",
       "    </tr>\n",
       "  </tbody>\n",
       "</table>\n",
       "<p>22781 rows × 13 columns</p>\n",
       "</div>"
      ],
      "text/plain": [
       "            edat  any_qx  bmi_val  charlindex  codisexe  Diabetes  Obesitat  \\\n",
       "0      72.747437    2018    30.67           0         1         0       1.0   \n",
       "1      78.365501    2019    30.73           1         1         0       0.0   \n",
       "2      83.101982    2019    31.05           1         1         1       0.0   \n",
       "3      75.186859    2020    26.92           0         1         0       0.0   \n",
       "4      71.904175    2020    41.33           0         1         0       1.0   \n",
       "...          ...     ...      ...         ...       ...       ...       ...   \n",
       "22776  76.210815    2020    32.76           0         1         0       0.0   \n",
       "22777  78.965096    2020    34.74           0         1         0       0.0   \n",
       "22778  73.388092    2020    40.74           3         1         0       1.0   \n",
       "22779  64.312119    2020    35.19           1         0         1       0.0   \n",
       "22780  82.633812    2020    38.10           1         1         0       1.0   \n",
       "\n",
       "       Rheumatoid_Arthritis  smoking_value  Durada_intervencio_minuts  \\\n",
       "0                       0.0            0.0                  89.912115   \n",
       "1                       0.0            2.0                 106.000000   \n",
       "2                       0.0            0.0                  74.000000   \n",
       "3                       0.0            0.0                  89.912115   \n",
       "4                       0.0            2.0                  89.912115   \n",
       "...                     ...            ...                        ...   \n",
       "22776                   0.0            0.0                  89.912115   \n",
       "22777                   0.0            0.0                  89.912115   \n",
       "22778                   0.0            2.0                 132.000000   \n",
       "22779                   0.0            2.0                  89.912115   \n",
       "22780                   0.0            0.0                  78.000000   \n",
       "\n",
       "       Alcohol_Abuse  nivah_int  viscositat_int  \n",
       "0                0.0          0               0  \n",
       "1                0.0          1               1  \n",
       "2                0.0          2               0  \n",
       "3                0.0          3               2  \n",
       "4                0.0          2               0  \n",
       "...              ...        ...             ...  \n",
       "22776            0.0          3               0  \n",
       "22777            0.0          1               3  \n",
       "22778            0.0          3               3  \n",
       "22779            0.0          1               3  \n",
       "22780            0.0          0               0  \n",
       "\n",
       "[22781 rows x 13 columns]"
      ]
     },
     "execution_count": 11,
     "metadata": {},
     "output_type": "execute_result"
    }
   ],
   "source": [
    "data_ip"
   ]
  },
  {
   "cell_type": "code",
   "execution_count": 12,
   "metadata": {},
   "outputs": [],
   "source": [
    "X = data_ip"
   ]
  },
  {
   "cell_type": "code",
   "execution_count": 13,
   "metadata": {},
   "outputs": [
    {
     "name": "stdout",
     "output_type": "stream",
     "text": [
      "Optimization terminated successfully.\n",
      "         Current function value: 0.670221\n",
      "         Iterations 4\n"
     ]
    }
   ],
   "source": [
    "ip_denom = logit_ip_weights(data.Antibiotic, X)"
   ]
  },
  {
   "cell_type": "code",
   "execution_count": 14,
   "metadata": {},
   "outputs": [],
   "source": [
    "pr_antibiotic = data.Antibiotic.mean()\n",
    "\n",
    "ip_numer = np.zeros(ip_denom.shape[0])\n",
    "ip_numer[data.Antibiotic == 0] = 1 - pr_antibiotic\n",
    "ip_numer[data.Antibiotic == 1] = pr_antibiotic"
   ]
  },
  {
   "cell_type": "code",
   "execution_count": 15,
   "metadata": {},
   "outputs": [],
   "source": [
    "ip_weights = ip_numer / ip_denom"
   ]
  },
  {
   "cell_type": "code",
   "execution_count": 16,
   "metadata": {},
   "outputs": [
    {
     "name": "stdout",
     "output_type": "stream",
     "text": [
      "Stabilized weights\n",
      " min   mean    max\n",
      "------------------\n",
      "0.61   1.00   2.25\n"
     ]
    }
   ],
   "source": [
    "print('Stabilized weights')\n",
    "print(' min   mean    max')\n",
    "print('------------------')\n",
    "print('{:>04.2f}   {:>04.2f}   {:>04.2f}'.format(\n",
    "    ip_weights.min(),\n",
    "    ip_weights.mean(),\n",
    "    ip_weights.max()\n",
    "))"
   ]
  },
  {
   "cell_type": "code",
   "execution_count": 17,
   "metadata": {},
   "outputs": [],
   "source": [
    "dm = data[data.Obesitat==1].index\n",
    "n_dm = data[data.Obesitat==0].index"
   ]
  },
  {
   "cell_type": "code",
   "execution_count": 18,
   "metadata": {},
   "outputs": [],
   "source": [
    "atb = data[data.Antibiotic==1].index\n",
    "n_atb = data[data.Antibiotic==0].index"
   ]
  },
  {
   "cell_type": "code",
   "execution_count": 19,
   "metadata": {},
   "outputs": [],
   "source": [
    "kmf = KaplanMeierFitter()\n",
    "\n",
    "# ATB, Diabetes\n",
    "kmf.fit(T[atb.intersection(dm)],E[atb.intersection(dm)], label='w_atb_w_dm', weights=ip_weights[atb.intersection(dm)])\n",
    "survival_w_atb_w_dm = kmf.survival_function_\n",
    "survival_w_atb_w_dm_ci = kmf.confidence_interval_survival_function_\n",
    "\n",
    "# No ATB, Diabetes\n",
    "kmf.fit(T[n_atb.intersection(dm)],E[n_atb.intersection(dm)], label='wo_atb_w_dm', weights=ip_weights[n_atb.intersection(dm)])\n",
    "survival_wo_atb_w_dm = kmf.survival_function_\n",
    "survival_wo_atb_w_dm_ci = kmf.confidence_interval_survival_function_\n",
    "\n",
    "# ATB, No diabetes\n",
    "kmf.fit(T[atb.intersection(n_dm)],E[atb.intersection(n_dm)], label='w_atb_wo_dm', weights=ip_weights[atb.intersection(n_dm)])\n",
    "survival_w_atb_wo_dm = kmf.survival_function_\n",
    "survival_w_atb_wo_dm_ci = kmf.confidence_interval_survival_function_\n",
    "\n",
    "# No ATB, No diabetes\n",
    "kmf.fit(T[n_atb.intersection(n_dm)],E[n_atb.intersection(n_dm)], label='wo_atb_wo_dm', weights=ip_weights[n_atb.intersection(n_dm)])\n",
    "survival_wo_atb_wo_dm = kmf.survival_function_\n",
    "survival_wo_atb_wo_dm_ci = kmf.confidence_interval_survival_function_\n"
   ]
  },
  {
   "cell_type": "code",
   "execution_count": 20,
   "metadata": {},
   "outputs": [],
   "source": [
    "diff_w_dm = survival_w_atb_w_dm['w_atb_w_dm'] - survival_wo_atb_w_dm['wo_atb_w_dm']"
   ]
  },
  {
   "cell_type": "code",
   "execution_count": 21,
   "metadata": {},
   "outputs": [],
   "source": [
    "diff_wo_dm = survival_w_atb_wo_dm['w_atb_wo_dm'] - survival_wo_atb_wo_dm['wo_atb_wo_dm']"
   ]
  },
  {
   "cell_type": "code",
   "execution_count": 22,
   "metadata": {},
   "outputs": [],
   "source": [
    "diff_w_dm_ci_up = survival_w_atb_w_dm_ci['w_atb_w_dm_upper_0.95'] - survival_wo_atb_w_dm_ci['wo_atb_w_dm_upper_0.95']"
   ]
  },
  {
   "cell_type": "code",
   "execution_count": 23,
   "metadata": {},
   "outputs": [],
   "source": [
    "diff_w_dm_ci_lo = survival_w_atb_w_dm_ci['w_atb_w_dm_lower_0.95'] - survival_wo_atb_w_dm_ci['wo_atb_w_dm_lower_0.95']"
   ]
  },
  {
   "cell_type": "code",
   "execution_count": 24,
   "metadata": {},
   "outputs": [],
   "source": [
    "diff_w_dm = diff_w_dm.dropna()"
   ]
  },
  {
   "cell_type": "code",
   "execution_count": 25,
   "metadata": {},
   "outputs": [],
   "source": [
    "diff_wo_dm = diff_wo_dm.dropna()"
   ]
  },
  {
   "cell_type": "code",
   "execution_count": 26,
   "metadata": {},
   "outputs": [],
   "source": [
    "diff_w_dm_ci_up = diff_w_dm_ci_up.dropna()"
   ]
  },
  {
   "cell_type": "code",
   "execution_count": 27,
   "metadata": {},
   "outputs": [],
   "source": [
    "diff_w_dm_ci_lo = diff_w_dm_ci_lo.dropna()"
   ]
  },
  {
   "cell_type": "raw",
   "metadata": {},
   "source": [
    "diff_w_dm.plot(grid=True)\n",
    "diff_wo_dm.plot(grid=True)"
   ]
  },
  {
   "cell_type": "markdown",
   "metadata": {},
   "source": [
    "## CATE from modelling the outcome"
   ]
  },
  {
   "cell_type": "code",
   "execution_count": null,
   "metadata": {},
   "outputs": [],
   "source": []
  },
  {
   "cell_type": "code",
   "execution_count": 28,
   "metadata": {},
   "outputs": [],
   "source": [
    "def survival_curve(hazard):\n",
    "    survival = [1 - hazard[0]]\n",
    "    for i in range(1, len(hazard)):\n",
    "        survival.append((1 - hazard[i]) * survival[i - 1])\n",
    "    return survival"
   ]
  },
  {
   "cell_type": "code",
   "execution_count": 29,
   "metadata": {},
   "outputs": [],
   "source": [
    "def person_time_format(data, event_of_interest):\n",
    "    # This works for the current data only; it requires the data\n",
    "    # have `longevity` and `death` columns.\n",
    "\n",
    "    # accumulate rows in a dict, then convert the dict to DataFrame;\n",
    "    # the dict will contain each column of the input data, plus\n",
    "    # `time`, which keeps track of month within individual, and\n",
    "    # `event`, a 0/1 indicator of death for each month\n",
    "    newrows = {name: [] for name in data.columns}\n",
    "    newrows.update({'time': [], 'event': []})\n",
    "    \n",
    "    for _, row in data.iterrows():\n",
    "        # n_mos: a zero for each month of `longevity`\n",
    "        # and then a zero/one to indicate death afterwards\n",
    "        n_mos = int(row['T'] + row[event_of_interest])\n",
    "        for name in data.columns:\n",
    "            newrows[name].extend([row[name]] * n_mos)\n",
    "        newrows['time'].extend(range(n_mos))\n",
    "        newrows['event'].extend([0] * n_mos)\n",
    "        if row[event_of_interest]:\n",
    "            newrows['event'][-1] = 1\n",
    "\n",
    "    return pd.DataFrame(newrows)"
   ]
  },
  {
   "cell_type": "code",
   "execution_count": 30,
   "metadata": {},
   "outputs": [],
   "source": [
    "pt_data_a = person_time_format(data, 'Ea')"
   ]
  },
  {
   "cell_type": "code",
   "execution_count": 31,
   "metadata": {},
   "outputs": [],
   "source": [
    "model_a = sm.Poisson.from_formula(\n",
    "    #'event ~ Antibiotic + Antibiotic:time + Antibiotic:np.power(time, 2) + Antibiotic:np.power(time, 3) + Antibiotic:np.power(time, 4) + time + np.power(time, 2) + np.power(time, 3) + np.power(time, 4)',\n",
    "    #'event ~ Antibiotic + Antibiotic:time + Antibiotic:np.power(time, 2) + Antibiotic:np.power(time, 3) + time + np.power(time, 2) + np.power(time, 3)',\n",
    "    'event ~ C(Antibiotic) + C(Antibiotic):time + C(Antibiotic):np.power(time, 2) + C(Obesitat)',\n",
    "    data=pt_data_a\n",
    ")"
   ]
  },
  {
   "cell_type": "code",
   "execution_count": 32,
   "metadata": {},
   "outputs": [
    {
     "name": "stdout",
     "output_type": "stream",
     "text": [
      "Optimization terminated successfully.\n",
      "         Current function value: 0.009340\n",
      "         Iterations 26\n"
     ]
    }
   ],
   "source": [
    "res_a = model_a.fit()"
   ]
  },
  {
   "cell_type": "code",
   "execution_count": 33,
   "metadata": {},
   "outputs": [
    {
     "data": {
      "text/html": [
       "<table class=\"simpletable\">\n",
       "<caption>Poisson Regression Results</caption>\n",
       "<tr>\n",
       "  <th>Dep. Variable:</th>         <td>event</td>      <th>  No. Observations:  </th>  <td>1895898</td> \n",
       "</tr>\n",
       "<tr>\n",
       "  <th>Model:</th>                <td>Poisson</td>     <th>  Df Residuals:      </th>  <td>1895891</td> \n",
       "</tr>\n",
       "<tr>\n",
       "  <th>Method:</th>                 <td>MLE</td>       <th>  Df Model:          </th>  <td>     6</td>  \n",
       "</tr>\n",
       "<tr>\n",
       "  <th>Date:</th>            <td>Sun, 02 Jun 2024</td> <th>  Pseudo R-squ.:     </th>  <td>0.01244</td> \n",
       "</tr>\n",
       "<tr>\n",
       "  <th>Time:</th>                <td>13:53:22</td>     <th>  Log-Likelihood:    </th> <td> -17708.</td> \n",
       "</tr>\n",
       "<tr>\n",
       "  <th>converged:</th>             <td>True</td>       <th>  LL-Null:           </th> <td> -17931.</td> \n",
       "</tr>\n",
       "<tr>\n",
       "  <th>Covariance Type:</th>     <td>nonrobust</td>    <th>  LLR p-value:       </th> <td>3.272e-93</td>\n",
       "</tr>\n",
       "</table>\n",
       "<table class=\"simpletable\">\n",
       "<tr>\n",
       "                   <td></td>                     <th>coef</th>     <th>std err</th>      <th>z</th>      <th>P>|z|</th>  <th>[0.025</th>    <th>0.975]</th>  \n",
       "</tr>\n",
       "<tr>\n",
       "  <th>Intercept</th>                          <td>   -6.0131</td> <td>    0.060</td> <td>  -99.610</td> <td> 0.000</td> <td>   -6.131</td> <td>   -5.895</td>\n",
       "</tr>\n",
       "<tr>\n",
       "  <th>C(Antibiotic)[T.1]</th>                 <td>   -0.2254</td> <td>    0.086</td> <td>   -2.615</td> <td> 0.009</td> <td>   -0.394</td> <td>   -0.056</td>\n",
       "</tr>\n",
       "<tr>\n",
       "  <th>C(Obesitat)[T.1.0]</th>                 <td>    0.2597</td> <td>    0.059</td> <td>    4.397</td> <td> 0.000</td> <td>    0.144</td> <td>    0.375</td>\n",
       "</tr>\n",
       "<tr>\n",
       "  <th>C(Antibiotic)[0]:time</th>              <td>   -0.0135</td> <td>    0.003</td> <td>   -5.304</td> <td> 0.000</td> <td>   -0.019</td> <td>   -0.009</td>\n",
       "</tr>\n",
       "<tr>\n",
       "  <th>C(Antibiotic)[1]:time</th>              <td>   -0.0326</td> <td>    0.003</td> <td>  -11.339</td> <td> 0.000</td> <td>   -0.038</td> <td>   -0.027</td>\n",
       "</tr>\n",
       "<tr>\n",
       "  <th>C(Antibiotic)[0]:np.power(time, 2)</th> <td> 5.093e-05</td> <td> 2.13e-05</td> <td>    2.391</td> <td> 0.017</td> <td> 9.18e-06</td> <td> 9.27e-05</td>\n",
       "</tr>\n",
       "<tr>\n",
       "  <th>C(Antibiotic)[1]:np.power(time, 2)</th> <td>    0.0002</td> <td> 2.38e-05</td> <td>    8.600</td> <td> 0.000</td> <td>    0.000</td> <td>    0.000</td>\n",
       "</tr>\n",
       "</table>"
      ],
      "text/plain": [
       "<class 'statsmodels.iolib.summary.Summary'>\n",
       "\"\"\"\n",
       "                          Poisson Regression Results                          \n",
       "==============================================================================\n",
       "Dep. Variable:                  event   No. Observations:              1895898\n",
       "Model:                        Poisson   Df Residuals:                  1895891\n",
       "Method:                           MLE   Df Model:                            6\n",
       "Date:                Sun, 02 Jun 2024   Pseudo R-squ.:                 0.01244\n",
       "Time:                        13:53:22   Log-Likelihood:                -17708.\n",
       "converged:                       True   LL-Null:                       -17931.\n",
       "Covariance Type:            nonrobust   LLR p-value:                 3.272e-93\n",
       "======================================================================================================\n",
       "                                         coef    std err          z      P>|z|      [0.025      0.975]\n",
       "------------------------------------------------------------------------------------------------------\n",
       "Intercept                             -6.0131      0.060    -99.610      0.000      -6.131      -5.895\n",
       "C(Antibiotic)[T.1]                    -0.2254      0.086     -2.615      0.009      -0.394      -0.056\n",
       "C(Obesitat)[T.1.0]                     0.2597      0.059      4.397      0.000       0.144       0.375\n",
       "C(Antibiotic)[0]:time                 -0.0135      0.003     -5.304      0.000      -0.019      -0.009\n",
       "C(Antibiotic)[1]:time                 -0.0326      0.003    -11.339      0.000      -0.038      -0.027\n",
       "C(Antibiotic)[0]:np.power(time, 2)  5.093e-05   2.13e-05      2.391      0.017    9.18e-06    9.27e-05\n",
       "C(Antibiotic)[1]:np.power(time, 2)     0.0002   2.38e-05      8.600      0.000       0.000       0.000\n",
       "======================================================================================================\n",
       "\"\"\""
      ]
     },
     "execution_count": 33,
     "metadata": {},
     "output_type": "execute_result"
    }
   ],
   "source": [
    "res_a.summary()"
   ]
  },
  {
   "cell_type": "code",
   "execution_count": 34,
   "metadata": {},
   "outputs": [],
   "source": [
    "ATB0_ob_pred = res_a.predict(\n",
    "    pd.DataFrame({'time': list(range(160)), 'Antibiotic': [0] * 160, 'Obesitat': [1] * 160})\n",
    ")\n",
    "ATB1_ob_pred = res_a.predict(\n",
    "    pd.DataFrame({'time': list(range(160)), 'Antibiotic': [1] * 160, 'Obesitat': [1] * 160})\n",
    ")\n",
    "\n",
    "ATB0_nob_pred = res_a.predict(\n",
    "    pd.DataFrame({'time': list(range(160)), 'Antibiotic': [0] * 160, 'Obesitat': [0] * 160})\n",
    ")\n",
    "ATB1_nob_pred = res_a.predict(\n",
    "    pd.DataFrame({'time': list(range(160)), 'Antibiotic': [1] * 160, 'Obesitat': [0] * 160})\n",
    ")"
   ]
  },
  {
   "cell_type": "code",
   "execution_count": 35,
   "metadata": {},
   "outputs": [],
   "source": [
    "model_surv_atb0_ob_all = survival_curve(ATB0_ob_pred)\n",
    "model_surv_atb1_ob_all = survival_curve(ATB1_ob_pred)\n",
    "\n",
    "model_surv_atb0_nob_all = survival_curve(ATB0_nob_pred)\n",
    "model_surv_atb1_nob_all = survival_curve(ATB1_nob_pred)"
   ]
  },
  {
   "cell_type": "code",
   "execution_count": 36,
   "metadata": {},
   "outputs": [],
   "source": [
    "ob = np.array(model_surv_atb1_ob_all) - np.array(model_surv_atb0_ob_all)"
   ]
  },
  {
   "cell_type": "code",
   "execution_count": 37,
   "metadata": {},
   "outputs": [],
   "source": [
    "nob = np.array(model_surv_atb1_nob_all) - np.array(model_surv_atb0_nob_all)"
   ]
  },
  {
   "cell_type": "raw",
   "metadata": {},
   "source": [
    "fig, ax = plt.subplots(figsize=(8, 6))\n",
    "\n",
    "ax.plot(ob)\n",
    "ax.plot(nob)\n",
    "#ax.set_ylim(0.75, 1)\n",
    "ax.set_xlabel('Months of follow-up', fontsize=14)\n",
    "ax.set_ylabel('Survival probability', fontsize=14)\n",
    "\n",
    "ax.legend(['model 0', 'model 1']);# Plot manually computed curves\n",
    "ax.set_xlim(0,160);\n"
   ]
  },
  {
   "cell_type": "markdown",
   "metadata": {},
   "source": [
    "## CATE from CSF"
   ]
  },
  {
   "cell_type": "code",
   "execution_count": 58,
   "metadata": {},
   "outputs": [],
   "source": [
    "eti='Ea'"
   ]
  },
  {
   "cell_type": "code",
   "execution_count": 64,
   "metadata": {},
   "outputs": [],
   "source": [
    "data_obes = pd.read_csv(\"Causal_Survival_R/covariate_analysis/results_{}_wci/ate_matrix_Obesitat_{}.csv\".format(eti, eti))"
   ]
  },
  {
   "cell_type": "code",
   "execution_count": 66,
   "metadata": {},
   "outputs": [],
   "source": [
    "data_obes.drop(['Unnamed: 0','0'], axis=1, inplace=True)"
   ]
  },
  {
   "cell_type": "code",
   "execution_count": 69,
   "metadata": {},
   "outputs": [],
   "source": [
    "ate = data_obes.loc[1,data_obes.columns[0:]].apply(lambda x: x.split(';')[0],)\n",
    "ate_std = data_obes.loc[1,data_obes.columns[0:]].apply(lambda x: x.split(';')[1],)"
   ]
  },
  {
   "cell_type": "raw",
   "metadata": {},
   "source": [
    "fig = plt.figure()\n",
    "ax = fig.add_subplot(111)\n",
    "\n",
    "plt.plot(data_obes.columns.values, data_obes.iloc[0,:].values)\n",
    "plt.plot(data_obes.columns.values, data_obes.iloc[1,:].values)\n",
    "\n",
    "# Set labels and title\n",
    "ax.set_xlabel('Horizon')\n",
    "ax.set_ylabel('CATE')\n",
    "\n",
    "plt.show()\n",
    "plt.close()"
   ]
  },
  {
   "cell_type": "markdown",
   "metadata": {},
   "source": [
    "# All together"
   ]
  },
  {
   "cell_type": "code",
   "execution_count": null,
   "metadata": {},
   "outputs": [],
   "source": []
  },
  {
   "cell_type": "code",
   "execution_count": 44,
   "metadata": {},
   "outputs": [
    {
     "data": {
      "image/png": "[encoded data removed]",
      "text/plain": [
       "<Figure size 432x288 with 1 Axes>"
      ]
     },
     "metadata": {
      "needs_background": "light"
     },
     "output_type": "display_data"
    }
   ],
   "source": [
    "fig1, ax1 = plt.subplots()\n",
    "\n",
    "ax1.plot(diff_w_dm)\n",
    "ax1.plot(diff_wo_dm)\n",
    "\n",
    "ax1.set_xlim(0,120)\n",
    "ax1.set_xlabel('Horizon', fontsize=14)\n",
    "ax1.set_ylabel('CATE', fontsize=14)\n",
    "ax1.legend(['1', '0'])\n",
    "plt.grid(True)"
   ]
  },
  {
   "cell_type": "code",
   "execution_count": 45,
   "metadata": {},
   "outputs": [
    {
     "data": {
      "image/png": "[encoded data removed]",
      "text/plain": [
       "<Figure size 432x288 with 1 Axes>"
      ]
     },
     "metadata": {
      "needs_background": "light"
     },
     "output_type": "display_data"
    }
   ],
   "source": [
    "fig2, ax2 = plt.subplots()\n",
    "\n",
    "ax2.plot(ob)\n",
    "ax2.plot(nob)\n",
    "\n",
    "ax2.set_xlim(0,120);\n",
    "ax2.set_xlabel('Horizon', fontsize=14)\n",
    "ax2.set_ylabel('CATE', fontsize=14)\n",
    "ax2.legend(['1', '0'])\n",
    "plt.grid(True)"
   ]
  },
  {
   "cell_type": "code",
   "execution_count": 46,
   "metadata": {},
   "outputs": [
    {
     "data": {
      "image/png": "[encoded data removed]",
      "text/plain": [
       "<Figure size 432x288 with 1 Axes>"
      ]
     },
     "metadata": {
      "needs_background": "light"
     },
     "output_type": "display_data"
    }
   ],
   "source": [
    "fig3, ax3 = plt.subplots()\n",
    "\n",
    "ax3.plot(data_obes.columns.values, data_obes.iloc[1,:].values)\n",
    "ax3.plot(data_obes.columns.values, data_obes.iloc[0,:].values)\n",
    "\n",
    "plt.xticks([0,3,7,11,15,19,23])\n",
    "ax3.set_xlabel('Horizon', fontsize=14)\n",
    "ax3.set_ylabel('CATE', fontsize=14)\n",
    "ax3.legend(['1', '0'])\n",
    "plt.grid(True)"
   ]
  },
  {
   "cell_type": "code",
   "execution_count": null,
   "metadata": {},
   "outputs": [],
   "source": []
  },
  {
   "cell_type": "code",
   "execution_count": null,
   "metadata": {},
   "outputs": [],
   "source": []
  },
  {
   "cell_type": "code",
   "execution_count": 47,
   "metadata": {},
   "outputs": [
    {
     "data": {
      "text/plain": [
       "<matplotlib.collections.PathCollection at 0x7f048f8966a0>"
      ]
     },
     "execution_count": 47,
     "metadata": {},
     "output_type": "execute_result"
    },
    {
     "data": {
      "image/png": "[encoded data removed]",
      "text/plain": [
       "<Figure size 432x288 with 1 Axes>"
      ]
     },
     "metadata": {
      "needs_background": "light"
     },
     "output_type": "display_data"
    }
   ],
   "source": [
    "fig4, ax4 = plt.subplots()\n",
    "\n",
    "ax4.scatter(diff_w_dm.index.values, diff_w_dm.values, marker='x', linewidths=0.5)\n",
    "ax4.scatter(range(0,len(ob)), ob, marker='x', linewidths=0.5)\n",
    "ax4.scatter(pd.to_numeric(data_obes.columns.values), data_obes.iloc[1,:].values, marker='x', linewidths=0.5)\n"
   ]
  },
  {
   "cell_type": "code",
   "execution_count": 48,
   "metadata": {},
   "outputs": [
    {
     "data": {
      "text/plain": [
       "<matplotlib.collections.PathCollection at 0x7f048f798160>"
      ]
     },
     "execution_count": 48,
     "metadata": {},
     "output_type": "execute_result"
    },
    {
     "data": {
      "image/png": "[encoded data removed]",
      "text/plain": [
       "<Figure size 432x288 with 1 Axes>"
      ]
     },
     "metadata": {
      "needs_background": "light"
     },
     "output_type": "display_data"
    }
   ],
   "source": [
    "fig5, ax5 = plt.subplots()\n",
    "\n",
    "ax5.scatter(diff_wo_dm.index.values, diff_wo_dm.values, marker='x', linewidths=0.5)\n",
    "ax5.scatter(range(0,len(nob)), nob, marker='x', linewidths=0.5)\n",
    "ax5.scatter(pd.to_numeric(data_obes.columns.values), data_obes.iloc[0,:].values, marker='x', linewidths=0.5)"
   ]
  },
  {
   "cell_type": "code",
   "execution_count": 88,
   "metadata": {},
   "outputs": [],
   "source": [
    "plt.close()"
   ]
  },
  {
   "cell_type": "code",
   "execution_count": 91,
   "metadata": {},
   "outputs": [
    {
     "data": {
      "image/png": "[encoded data removed]",
      "text/plain": [
       "<Figure size 576x432 with 1 Axes>"
      ]
     },
     "metadata": {
      "needs_background": "light"
     },
     "output_type": "display_data"
    }
   ],
   "source": [
    "fig4 = plt.figure(figsize=(8,6))\n",
    "ax4 = fig4.add_subplot(111)\n",
    "\n",
    "#fig4, ax4 = plt.subplots()\n",
    "\n",
    "ax4.plot(diff_w_dm.index.values, diff_w_dm.values)\n",
    "plt.fill_between(diff_w_dm.index.values, diff_w_dm_ci_lo, diff_w_dm_ci_up, alpha=0.25)\n",
    "\n",
    "ax4.plot(range(0,len(ob)), ob)\n",
    "\n",
    "ax4.plot(pd.to_numeric(ate.index.values), pd.to_numeric(ate.values))\n",
    "plt.fill_between(pd.to_numeric(ate.index.values), pd.to_numeric(ate.values)-1.96*pd.to_numeric(ate_std.values), pd.to_numeric(ate.values)+1.96*pd.to_numeric(ate_std.values), alpha=0.25, color='green')\n",
    "\n",
    "ax4.set_xlim(0,120);\n",
    "ax4.set_xlabel('Horizon', fontsize=14)\n",
    "ax4.set_ylabel('CATE', fontsize=14)\n",
    "ax4.set_title('Obesity')\n",
    "ax4.legend(['Weigthed KM', 'G-computation', 'CSF'], fontsize=14)\n",
    "plt.grid(True)\n",
    "plt.savefig('method_comparison_plot.pdf')\n",
    "plt.show()"
   ]
  },
  {
   "cell_type": "code",
   "execution_count": 73,
   "metadata": {},
   "outputs": [
    {
     "data": {
      "image/png": "[encoded data removed]",
      "text/plain": [
       "<Figure size 432x288 with 1 Axes>"
      ]
     },
     "metadata": {
      "needs_background": "light"
     },
     "output_type": "display_data"
    }
   ],
   "source": [
    "fig5, ax5 = plt.subplots()\n",
    "\n",
    "ax5.plot(diff_wo_dm.index.values, diff_wo_dm.values)\n",
    "ax5.plot(range(0,len(nob)), nob)\n",
    "ax5.plot(pd.to_numeric(data_obes.columns.values), data_obes.iloc[0,:].values)\n",
    "ax5.set_xlim(0,120);\n",
    "ax5.set_xlabel('Horizon', fontsize=14)\n",
    "ax5.set_ylabel('CATE', fontsize=14)\n",
    "ax5.set_title('No obesity')\n",
    "ax5.legend(['KM', 'Gform', 'CSF'])\n",
    "plt.grid(True)"
   ]
  },
  {
   "cell_type": "code",
   "execution_count": null,
   "metadata": {},
   "outputs": [],
   "source": []
  }
 ],
 "metadata": {
  "kernelspec": {
   "display_name": "Kernel Python3.6",
   "language": "python",
   "name": "python3.6"
  },
  "language_info": {
   "codemirror_mode": {
    "name": "ipython",
    "version": 3
   },
   "file_extension": ".py",
   "mimetype": "text/x-python",
   "name": "python",
   "nbconvert_exporter": "python",
   "pygments_lexer": "ipython3",
   "version": "3.6.12"
  }
 },
 "nbformat": 4,
 "nbformat_minor": 4
}
